{
 "cells": [
  {
   "cell_type": "markdown",
   "id": "2ac1b581",
   "metadata": {},
   "source": [
    "inisialisasi training data\n",
    "\n",
    "Male        = 0\n",
    "Female      = 1\n",
    "\n",
    "OverWeight  = 1\n",
    "Under/Norml = 0 "
   ]
  },
  {
   "cell_type": "code",
   "execution_count": 248,
   "id": "d17f1571",
   "metadata": {},
   "outputs": [
    {
     "name": "stdout",
     "output_type": "stream",
     "text": [
      "     Gender  Height  Weight  Index\n",
      "0      Male     174      96      4\n",
      "1      Male     189      87      2\n",
      "2    Female     185     110      4\n",
      "3    Female     195     104      3\n",
      "4      Male     149      61      3\n",
      "..      ...     ...     ...    ...\n",
      "495  Female     150     153      5\n",
      "496  Female     184     121      4\n",
      "497  Female     141     136      5\n",
      "498    Male     150      95      5\n",
      "499    Male     173     131      5\n",
      "\n",
      "[500 rows x 4 columns]\n"
     ]
    }
   ],
   "source": [
    "import pandas as pd\n",
    "import numpy as np\n",
    "\n",
    "data =  pd.read_csv(\"bmi.csv\")\n",
    "print(data)"
   ]
  },
  {
   "cell_type": "code",
   "execution_count": 249,
   "id": "5fb202f1",
   "metadata": {},
   "outputs": [],
   "source": [
    "x_train = data[[\"Gender\", \"Height\", \"Weight\"]].to_numpy()\n",
    "y_train = data[\"Index\"].to_numpy()"
   ]
  },
  {
   "cell_type": "code",
   "execution_count": 250,
   "id": "fed515a9",
   "metadata": {},
   "outputs": [
    {
     "name": "stdout",
     "output_type": "stream",
     "text": [
      "[['Male' 174 96]\n",
      " ['Male' 189 87]\n",
      " ['Female' 185 110]\n",
      " ...\n",
      " ['Female' 141 136]\n",
      " ['Male' 150 95]\n",
      " ['Male' 173 131]]\n",
      "[4 2 4 3 3 3 5 5 3 4 2 4 3 2 2 5 5 5 5 5 5 5 4 5 2 3 3 1 5 5 5 1 1 5 5 4 3\n",
      " 4 5 2 4 5 2 5 4 2 4 4 3 5 5 1 5 4 4 3 4 5 3 5 0 5 0 2 5 5 4 2 4 4 2 4 5 2\n",
      " 3 4 4 4 4 0 3 5 3 4 5 0 5 5 5 5 5 3 3 2 4 5 4 5 1 0 4 5 5 4 4 4 5 5 4 3 4\n",
      " 5 4 2 4 3 2 5 5 5 4 4 4 5 5 4 4 4 5 2 5 2 5 4 5 5 5 3 5 5 2 4 5 5 5 4 3 5\n",
      " 3 3 0 3 3 5 5 4 3 5 3 4 2 2 3 5 4 2 4 5 3 2 4 5 5 4 4 4 4 3 5 3 3 4 4 2 3\n",
      " 3 5 3 5 4 5 5 4 5 5 5 4 4 5 5 1 3 4 4 5 4 5 4 3 4 4 5 5 5 0 5 5 5 5 5 2 5\n",
      " 4 5 0 5 3 4 5 5 4 2 3 3 4 3 5 5 2 5 3 2 1 5 0 5 3 5 3 4 3 5 5 5 5 2 4 5 5\n",
      " 4 5 5 5 2 4 5 5 5 5 1 5 5 4 0 3 3 4 2 3 1 1 5 5 4 4 4 4 5 2 5 4 3 3 4 5 5\n",
      " 2 4 3 4 5 4 2 4 5 4 5 5 1 5 5 5 5 2 2 5 3 5 4 5 4 4 5 5 4 2 2 4 3 3 5 4 2\n",
      " 2 2 2 5 5 4 5 3 4 4 3 4 4 2 2 5 2 2 2 2 5 0 3 4 5 1 4 1 4 5 4 5 5 3 4 5 4\n",
      " 3 5 1 2 4 5 5 5 5 3 5 1 4 5 5 2 5 4 3 2 2 2 2 3 5 3 3 5 3 5 3 4 2 4 4 5 2\n",
      " 5 5 5 1 4 5 5 5 4 5 2 5 2 1 5 5 4 1 1 4 4 4 4 2 5 5 4 2 5 5 5 1 5 4 2 5 5\n",
      " 4 5 4 4 5 5 5 4 5 0 2 2 4 2 4 5 4 5 1 5 2 5 3 5 5 3 5 5 2 5 3 4 5 2 2 5 5\n",
      " 4 5 4 4 4 5 2 4 5 2 5 0 1 5 5 4 5 5 5]\n"
     ]
    }
   ],
   "source": [
    "print(x_train)\n",
    "print(y_train)"
   ]
  },
  {
   "cell_type": "code",
   "execution_count": 251,
   "id": "10df9094",
   "metadata": {},
   "outputs": [
    {
     "name": "stdout",
     "output_type": "stream",
     "text": [
      "[[1 0.8743718592964824 0.6]\n",
      " [1 0.949748743718593 0.54375]\n",
      " [0 0.9296482412060302 0.6875]\n",
      " ...\n",
      " [0 0.7085427135678392 0.85]\n",
      " [1 0.7537688442211056 0.59375]\n",
      " [1 0.8693467336683417 0.81875]]\n"
     ]
    }
   ],
   "source": [
    "# persiapan data x\n",
    "\n",
    "x_train[:,0] = np.where(x_train[:, 0] == \"Male\", 1, 0) # mengubah Male mejadi 1 dan Female 0\n",
    "x_train[:,1] = x_train[:, 1]/np.max(x_train[:,1])\n",
    "x_train[:,2] = x_train[:, 2]/np.max(x_train[:,2])\n",
    "print(x_train)"
   ]
  },
  {
   "cell_type": "code",
   "execution_count": 252,
   "id": "b273f7a6",
   "metadata": {},
   "outputs": [
    {
     "name": "stdout",
     "output_type": "stream",
     "text": [
      "[1 0 1 1 1 1 1 1 1 1 0 1 1 0 0 1 1 1 1 1 1 1 1 1 0 1 1 0 1 1 1 0 0 1 1 1 1\n",
      " 1 1 0 1 1 0 1 1 0 1 1 1 1 1 0 1 1 1 1 1 1 1 1 0 1 0 0 1 1 1 0 1 1 0 1 1 0\n",
      " 1 1 1 1 1 0 1 1 1 1 1 0 1 1 1 1 1 1 1 0 1 1 1 1 0 0 1 1 1 1 1 1 1 1 1 1 1\n",
      " 1 1 0 1 1 0 1 1 1 1 1 1 1 1 1 1 1 1 0 1 0 1 1 1 1 1 1 1 1 0 1 1 1 1 1 1 1\n",
      " 1 1 0 1 1 1 1 1 1 1 1 1 0 0 1 1 1 0 1 1 1 0 1 1 1 1 1 1 1 1 1 1 1 1 1 0 1\n",
      " 1 1 1 1 1 1 1 1 1 1 1 1 1 1 1 0 1 1 1 1 1 1 1 1 1 1 1 1 1 0 1 1 1 1 1 0 1\n",
      " 1 1 0 1 1 1 1 1 1 0 1 1 1 1 1 1 0 1 1 0 0 1 0 1 1 1 1 1 1 1 1 1 1 0 1 1 1\n",
      " 1 1 1 1 0 1 1 1 1 1 0 1 1 1 0 1 1 1 0 1 0 0 1 1 1 1 1 1 1 0 1 1 1 1 1 1 1\n",
      " 0 1 1 1 1 1 0 1 1 1 1 1 0 1 1 1 1 0 0 1 1 1 1 1 1 1 1 1 1 0 0 1 1 1 1 1 0\n",
      " 0 0 0 1 1 1 1 1 1 1 1 1 1 0 0 1 0 0 0 0 1 0 1 1 1 0 1 0 1 1 1 1 1 1 1 1 1\n",
      " 1 1 0 0 1 1 1 1 1 1 1 0 1 1 1 0 1 1 1 0 0 0 0 1 1 1 1 1 1 1 1 1 0 1 1 1 0\n",
      " 1 1 1 0 1 1 1 1 1 1 0 1 0 0 1 1 1 0 0 1 1 1 1 0 1 1 1 0 1 1 1 0 1 1 0 1 1\n",
      " 1 1 1 1 1 1 1 1 1 0 0 0 1 0 1 1 1 1 0 1 0 1 1 1 1 1 1 1 0 1 1 1 1 0 0 1 1\n",
      " 1 1 1 1 1 1 0 1 1 0 1 0 0 1 1 1 1 1 1]\n"
     ]
    }
   ],
   "source": [
    "#persiapan data y\n",
    "y_train = np.where(y_train[:] < 3, 0, 1)\n",
    "print(y_train)"
   ]
  },
  {
   "cell_type": "markdown",
   "id": "8b453bde",
   "metadata": {},
   "source": [
    "CONFIGURE PERCEPTRON"
   ]
  },
  {
   "cell_type": "code",
   "execution_count": 253,
   "id": "12244d3c",
   "metadata": {},
   "outputs": [
    {
     "name": "stdout",
     "output_type": "stream",
     "text": [
      " initial input : [0.32172512 0.84479404 0.57892639], initial bias : [0.25639957]\n"
     ]
    }
   ],
   "source": [
    "weight = np.random.rand(3)\n",
    "bias = np.random.rand(1)\n",
    "output = np.zeros(1)\n",
    "print(f\" initial input : {weight}, initial bias : {bias}\")"
   ]
  },
  {
   "cell_type": "markdown",
   "id": "f8c50ee9",
   "metadata": {},
   "source": [
    "Coba Model\n",
    "y'   = w.x + b\n",
    "f(x) = w.x + b\n",
    "\n",
    "y'      =  prediksi terhadap x\n",
    "f (x)   =  prediksi terhadap x\n",
    "w       =  weight\n",
    "x       =  nilai input layer\n",
    "b       =  bias"
   ]
  },
  {
   "cell_type": "code",
   "execution_count": 254,
   "id": "a8f6a84e",
   "metadata": {},
   "outputs": [
    {
     "name": "stdout",
     "output_type": "stream",
     "text": [
      "[1.66414465]\n"
     ]
    }
   ],
   "source": [
    "y = np.sum(x_train[0] * weight) + bias\n",
    "print(y)"
   ]
  },
  {
   "cell_type": "markdown",
   "id": "466a27d6",
   "metadata": {},
   "source": [
    "MODEL FIT\n",
    "Forward propagation & Error\n",
    "\n",
    "MSE = 1 /n ( y - y') \n",
    "MSE = 1 /n ( error )\n",
    "\n",
    "y  = nilai aktual \n",
    "y' = nilai prediksi\n",
    "n  = jumlah data"
   ]
  },
  {
   "cell_type": "code",
   "execution_count": 255,
   "id": "0243b7ad",
   "metadata": {},
   "outputs": [],
   "source": [
    "# MSE = 0\n",
    "\n",
    "# for i in range(len(x_train)):\n",
    "#     y_predict = np.dot(x_train[i], weight) + bias\n",
    "#     error = y_train[i] - y_predict\n",
    "#     MSE   += error * error\n",
    "\n",
    "# MSE = MSE / len(x_train)\n",
    "# print(MSE)"
   ]
  },
  {
   "cell_type": "markdown",
   "id": "a587682e",
   "metadata": {},
   "source": [
    "Back Propagation dan Update Bobot\n",
    "\n",
    "y/dw = w + learning_rate "
   ]
  },
  {
   "cell_type": "code",
   "execution_count": 256,
   "id": "85f3f939",
   "metadata": {},
   "outputs": [],
   "source": [
    "learning_rate   = 0.01\n",
    "epoch           = 10"
   ]
  },
  {
   "cell_type": "code",
   "execution_count": null,
   "id": "2d71315b",
   "metadata": {},
   "outputs": [
    {
     "ename": "UFuncTypeError",
     "evalue": "Cannot cast ufunc 'add' output from dtype('O') to dtype('float64') with casting rule 'same_kind'",
     "output_type": "error",
     "traceback": [
      "\u001b[31m---------------------------------------------------------------------------\u001b[39m",
      "\u001b[31mUFuncTypeError\u001b[39m                            Traceback (most recent call last)",
      "\u001b[36mCell\u001b[39m\u001b[36m \u001b[39m\u001b[32mIn[257]\u001b[39m\u001b[32m, line 28\u001b[39m\n\u001b[32m     25\u001b[39m     \u001b[38;5;28mprint\u001b[39m(MSE/\u001b[38;5;28mlen\u001b[39m(x_train))\n\u001b[32m     27\u001b[39m \u001b[38;5;28;01mwhile\u001b[39;00m(epoch > \u001b[32m0\u001b[39m) :\n\u001b[32m---> \u001b[39m\u001b[32m28\u001b[39m     \u001b[43mmodel_fit\u001b[49m\u001b[43m(\u001b[49m\u001b[43m)\u001b[49m\n\u001b[32m     29\u001b[39m     epoch -= \u001b[32m1\u001b[39m\n",
      "\u001b[36mCell\u001b[39m\u001b[36m \u001b[39m\u001b[32mIn[257]\u001b[39m\u001b[32m, line 14\u001b[39m, in \u001b[36mmodel_fit\u001b[39m\u001b[34m()\u001b[39m\n\u001b[32m     11\u001b[39m     error     = y_train[i] - y_predict\n\u001b[32m     12\u001b[39m     MSE      += error*error\n\u001b[32m---> \u001b[39m\u001b[32m14\u001b[39m     \u001b[43md_weight\u001b[49m\u001b[43m \u001b[49m\u001b[43m+\u001b[49m\u001b[43m=\u001b[49m\u001b[43m  \u001b[49m\u001b[43mx_train\u001b[49m\u001b[43m[\u001b[49m\u001b[43mi\u001b[49m\u001b[43m]\u001b[49m\u001b[43m \u001b[49m\u001b[43m*\u001b[49m\u001b[43m \u001b[49m\u001b[43merror\u001b[49m\n\u001b[32m     15\u001b[39m     d_bias   +=  error\n\u001b[32m     17\u001b[39m d_weight /= \u001b[38;5;28mlen\u001b[39m(x_train)\n",
      "\u001b[31mUFuncTypeError\u001b[39m: Cannot cast ufunc 'add' output from dtype('O') to dtype('float64') with casting rule 'same_kind'"
     ]
    }
   ],
   "source": [
    "def model_fit():\n",
    "    global weight, bias\n",
    "    # forward propagation\n",
    "\n",
    "    MSE = 0\n",
    "    d_weight = np.zeros(3)\n",
    "    d_bias = np.zeros(1)\n",
    "\n",
    "    for i in range(len(x_train)):\n",
    "        y_predict = np.dot(x_train[i], weight) + bias\n",
    "        error     = y_train[i] - y_predict\n",
    "        MSE      += error*error\n",
    "        \n",
    "        d_weight += -2 * x_train[i] * error\n",
    "        d_bias   += -2 * error\n",
    "\n",
    "    d_weight /= len(x_train)\n",
    "    d_bias   /= len(x_train)\n",
    "\n",
    "    print(d_weight)\n",
    "\n",
    "    # update parameters\n",
    "    weight -= learning_rate * d_weight\n",
    "    bias   -= learning_rate * d_bias\n",
    "    print(MSE/len(x_train))\n",
    "\n",
    "while(epoch > 0) :\n",
    "    model_fit()\n",
    "    epoch -= 1\n",
    "\n"
   ]
  }
 ],
 "metadata": {
  "kernelspec": {
   "display_name": "Python 3",
   "language": "python",
   "name": "python3"
  },
  "language_info": {
   "codemirror_mode": {
    "name": "ipython",
    "version": 3
   },
   "file_extension": ".py",
   "mimetype": "text/x-python",
   "name": "python",
   "nbconvert_exporter": "python",
   "pygments_lexer": "ipython3",
   "version": "3.12.7"
  }
 },
 "nbformat": 4,
 "nbformat_minor": 5
}
