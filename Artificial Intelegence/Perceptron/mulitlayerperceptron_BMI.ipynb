{
 "cells": [
  {
   "cell_type": "code",
   "execution_count": 1,
   "id": "a44aad93",
   "metadata": {},
   "outputs": [],
   "source": [
    "import numpy as np\n",
    "import random "
   ]
  },
  {
   "cell_type": "code",
   "execution_count": 2,
   "id": "20df6ff5",
   "metadata": {},
   "outputs": [],
   "source": [
    "input_target = [\n",
    "    [168/200,65/100,1.00],\n",
    "    [150/200,50/100,0.00],\n",
    "    [156/200,55/100,0.00],\n",
    "    [168/200,62/100,0.00],\n",
    "    [169/100,57/100,1.00]\n",
    "    ]\n",
    "\n",
    "output_target = [1,0,1,0,0]"
   ]
  },
  {
   "cell_type": "code",
   "execution_count": null,
   "id": "a0551f0d",
   "metadata": {},
   "outputs": [
    {
     "name": "stdout",
     "output_type": "stream",
     "text": [
      "[[0.84, 0.65, 1.0], [0.75, 0.5, 0.0], [0.78, 0.55, 0.0], [0.84, 0.62, 0.0], [1.69, 0.57, 1.0]]\n"
     ]
    }
   ],
   "source": [
    "print (input_target)"
   ]
  },
  {
   "cell_type": "code",
   "execution_count": null,
   "id": "37d03090",
   "metadata": {},
   "outputs": [],
   "source": [
    "#inisialisasi perceptron\n",
    "\n",
    "lr = 0,1\n",
    "tb = random.randrange(0,1)\n",
    "bb = random.randrange(0,1)\n",
    "sex = 1\n",
    "\n",
    "\n",
    "weight = [tb,bb,sex]\n",
    "bias = 1"
   ]
  },
  {
   "cell_type": "markdown",
   "id": "7a108ddb",
   "metadata": {},
   "source": []
  },
  {
   "cell_type": "code",
   "execution_count": 5,
   "id": "243cc97f",
   "metadata": {},
   "outputs": [
    {
     "name": "stdout",
     "output_type": "stream",
     "text": [
      "7.0\n",
      "7.0\n",
      "7.0\n",
      "7.0\n",
      "7.0\n",
      "7.0\n",
      "7.0\n",
      "7.0\n",
      "7.0\n",
      "7.0\n"
     ]
    }
   ],
   "source": [
    "epoch = 10\n",
    "\n",
    "for i in range(epoch):\n",
    "\n",
    "    MSE:float = 0\n",
    "    for j, k in enumerate(input_target):\n",
    "        y_target = wtb * input_target[j][0] + wbb * input_target[j][1] + wsx*input_target[j][2] + bias\n",
    "        error = output_target[j] - y_target\n",
    "        MSE = MSE + error*error\n",
    "    \n",
    "    print(MSE)\n"
   ]
  }
 ],
 "metadata": {
  "kernelspec": {
   "display_name": "Python 3",
   "language": "python",
   "name": "python3"
  },
  "language_info": {
   "codemirror_mode": {
    "name": "ipython",
    "version": 3
   },
   "file_extension": ".py",
   "mimetype": "text/x-python",
   "name": "python",
   "nbconvert_exporter": "python",
   "pygments_lexer": "ipython3",
   "version": "3.12.9"
  }
 },
 "nbformat": 4,
 "nbformat_minor": 5
}
