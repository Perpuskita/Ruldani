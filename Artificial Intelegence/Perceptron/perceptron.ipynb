{
 "cells": [
  {
   "cell_type": "code",
   "execution_count": 7,
   "metadata": {},
   "outputs": [],
   "source": [
    "import numpy as np"
   ]
  },
  {
   "cell_type": "markdown",
   "metadata": {},
   "source": [
    "layer perceptron configuration\n",
    "\n",
    "1 ( bias )      \n",
    "\n",
    "1               =>  activation_function  =>  y\n",
    "\n",
    "1               \n",
    "\n",
    "penjelasan :\n",
    "\n",
    "input   = 2\n",
    "weight  = 2\n",
    "bias    = 1"
   ]
  },
  {
   "cell_type": "code",
   "execution_count": null,
   "metadata": {},
   "outputs": [],
   "source": [
    "weight = [2,3]\n",
    "bias = [1]\n",
    "input = [2,2]"
   ]
  },
  {
   "cell_type": "markdown",
   "metadata": {},
   "source": [
    "Macam - macam activation function :\n",
    "\n",
    "    - Sigmoid\n",
    "    - Tanh\n",
    "    - Keluarga Relu"
   ]
  },
  {
   "cell_type": "code",
   "execution_count": 2,
   "metadata": {},
   "outputs": [],
   "source": [
    "def sigm(x : float)->float:\n",
    "    return 1 / (1 + np.exp(-x))"
   ]
  },
  {
   "cell_type": "code",
   "execution_count": 3,
   "metadata": {},
   "outputs": [],
   "source": [
    "def tanh(x: float) -> float:\n",
    "    return (np.exp(x) - np.exp(-x)) / (np.exp(x) + np.exp(-x))"
   ]
  },
  {
   "cell_type": "code",
   "execution_count": 4,
   "metadata": {},
   "outputs": [],
   "source": [
    "def relu(n : float):\n",
    "    if n > 0:\n",
    "        return n\n",
    "    return 0"
   ]
  },
  {
   "cell_type": "code",
   "execution_count": 5,
   "metadata": {},
   "outputs": [],
   "source": [
    "def activation_function( x : float, activation : str ) -> float:\n",
    "\n",
    "    if activation == \"sigmoid\" :\n",
    "        return sigm(x)\n",
    "    elif activation == \"tanh\" :\n",
    "        return tanh(x)\n",
    "    else :\n",
    "        return relu(x)"
   ]
  },
  {
   "cell_type": "markdown",
   "metadata": {},
   "source": [
    "forward propagation perceptron\n",
    "\n",
    "y = g ( w0 + sum(x, w))\n",
    "y = g ( z )\n",
    "\n",
    " penjelasan :\n",
    "\n",
    "    y = output\n",
    "    g = activation\n",
    "    w0 = bias\n",
    "    x = input\n",
    "    w = weight"
   ]
  },
  {
   "cell_type": "code",
   "execution_count": null,
   "metadata": {},
   "outputs": [
    {
     "name": "stdout",
     "output_type": "stream",
     "text": [
      "[11]\n",
      "[0.9999833]\n"
     ]
    }
   ],
   "source": [
    "z = ( bias + np.dot(input, weight))\n",
    "\n",
    "print(z)\n",
    "\n",
    "y = activation_function(z, \"sigmoid\")"
   ]
  },
  {
   "cell_type": "markdown",
   "metadata": {},
   "source": [
    "Training perceptron"
   ]
  },
  {
   "cell_type": "markdown",
   "metadata": {},
   "source": [
    "Derivative Function"
   ]
  },
  {
   "cell_type": "code",
   "execution_count": null,
   "metadata": {},
   "outputs": [],
   "source": [
    "def sigm_d(x : float)->float :\n",
    "     sig = sigm(x)\n",
    "     return sig * (1 - sig)"
   ]
  },
  {
   "cell_type": "code",
   "execution_count": null,
   "metadata": {},
   "outputs": [],
   "source": [
    "def relu_d(x):\n",
    "    return 1 if x > 0 else 0"
   ]
  },
  {
   "cell_type": "code",
   "execution_count": null,
   "metadata": {},
   "outputs": [],
   "source": [
    "def tanh_d(x):\n",
    "    return 1 - tanh(x)**2"
   ]
  },
  {
   "cell_type": "code",
   "execution_count": null,
   "metadata": {},
   "outputs": [],
   "source": [
    "def derivative_activation_function( x : float, activation : str ) -> float:\n",
    "\n",
    "    if activation == \"sigmoid\" :\n",
    "        return sigm_d(x)\n",
    "    elif activation == \"tanh\" :\n",
    "        return tanh_d(x)\n",
    "    else :\n",
    "        return relu_d(x)"
   ]
  },
  {
   "cell_type": "code",
   "execution_count": null,
   "metadata": {},
   "outputs": [],
   "source": [
    "x_test = X_test = [\n",
    "    [50, 160],  # Berat 50 kg, Tinggi 160 cm\n",
    "    [60, 170],\n",
    "    [55, 150],\n",
    "    [70, 180],\n",
    "    [65, 175]\n",
    "]\n",
    "\n",
    "y_test = [0, 1, 0, 1, 1]  # 1 untuk 'fit', 0 untuk 'tidak fit'\n"
   ]
  }
 ],
 "metadata": {
  "kernelspec": {
   "display_name": "Python 3",
   "language": "python",
   "name": "python3"
  },
  "language_info": {
   "codemirror_mode": {
    "name": "ipython",
    "version": 3
   },
   "file_extension": ".py",
   "mimetype": "text/x-python",
   "name": "python",
   "nbconvert_exporter": "python",
   "pygments_lexer": "ipython3",
   "version": "3.12.9"
  }
 },
 "nbformat": 4,
 "nbformat_minor": 2
}
