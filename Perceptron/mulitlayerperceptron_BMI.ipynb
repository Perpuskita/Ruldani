{
 "cells": [
  {
   "cell_type": "code",
   "execution_count": 6,
   "id": "a44aad93",
   "metadata": {},
   "outputs": [],
   "source": [
    "import numpy as np\n",
    "import random "
   ]
  },
  {
   "cell_type": "code",
   "execution_count": 2,
   "id": "20df6ff5",
   "metadata": {},
   "outputs": [],
   "source": [
    "input_target = [\n",
    "    [168/200,65/100,1],\n",
    "    [150/200,50/100,0],\n",
    "    [156/200,55/100,0],\n",
    "    [168/200,62/100,0],\n",
    "    [169/100,57/100,1]\n",
    "    ]\n",
    "\n",
    "output_target = [1,0,1,0]"
   ]
  },
  {
   "cell_type": "code",
   "execution_count": 7,
   "id": "a0551f0d",
   "metadata": {},
   "outputs": [
    {
     "name": "stdout",
     "output_type": "stream",
     "text": [
      "[[0.84, 0.65, 1], [0.75, 0.5, 0], [0.78, 0.55, 0], [0.84, 0.62, 0], [1.69, 0.57, 1]]\n"
     ]
    }
   ],
   "source": [
    "print (input_target)"
   ]
  },
  {
   "cell_type": "code",
   "execution_count": 10,
   "id": "37d03090",
   "metadata": {},
   "outputs": [],
   "source": [
    "lr = 0,1\n",
    "wtb = random.randrange(0,1)\n",
    "wbb = random.randrange(0,1)\n",
    "wsx = 1\n",
    "bias = 1"
   ]
  },
  {
   "cell_type": "code",
   "execution_count": null,
   "id": "243cc97f",
   "metadata": {},
   "outputs": [
    {
     "ename": "TypeError",
     "evalue": "can only concatenate list (not \"int\") to list",
     "output_type": "error",
     "traceback": [
      "\u001b[1;31m---------------------------------------------------------------------------\u001b[0m",
      "\u001b[1;31mTypeError\u001b[0m                                 Traceback (most recent call last)",
      "Cell \u001b[1;32mIn[20], line 7\u001b[0m\n\u001b[0;32m      5\u001b[0m MSE \u001b[38;5;241m=\u001b[39m \u001b[38;5;241m0\u001b[39m\n\u001b[0;32m      6\u001b[0m \u001b[38;5;28;01mfor\u001b[39;00m j, k \u001b[38;5;129;01min\u001b[39;00m \u001b[38;5;28menumerate\u001b[39m(input_target):\n\u001b[1;32m----> 7\u001b[0m     y_target \u001b[38;5;241m=\u001b[39m \u001b[43mwtb\u001b[49m\u001b[38;5;241;43m*\u001b[39;49m\u001b[43minput_target\u001b[49m\u001b[43m[\u001b[49m\u001b[43mj\u001b[49m\u001b[43m]\u001b[49m\u001b[43m \u001b[49m\u001b[38;5;241;43m+\u001b[39;49m\u001b[43m \u001b[49m\u001b[43mwbb\u001b[49m\u001b[38;5;241;43m*\u001b[39;49m\u001b[43minput_target\u001b[49m\u001b[43m[\u001b[49m\u001b[43mj\u001b[49m\u001b[43m]\u001b[49m\u001b[43m \u001b[49m\u001b[38;5;241;43m+\u001b[39;49m\u001b[43m \u001b[49m\u001b[43mwsx\u001b[49m\u001b[38;5;241;43m*\u001b[39;49m\u001b[43minput_target\u001b[49m\u001b[43m[\u001b[49m\u001b[43mj\u001b[49m\u001b[43m]\u001b[49m\u001b[43m \u001b[49m\u001b[38;5;241;43m+\u001b[39;49m\u001b[43m \u001b[49m\u001b[43mbias\u001b[49m\n\u001b[0;32m      8\u001b[0m     MSE \u001b[38;5;241m=\u001b[39m MSE \u001b[38;5;241m+\u001b[39m (output_target[j] \u001b[38;5;241m-\u001b[39m y_target)\u001b[38;5;241m^\u001b[39m\u001b[38;5;241m2\u001b[39m\n\u001b[0;32m     10\u001b[0m \u001b[38;5;28mprint\u001b[39m(MSE)\n",
      "\u001b[1;31mTypeError\u001b[0m: can only concatenate list (not \"int\") to list"
     ]
    }
   ],
   "source": [
    "epoch = 1\n",
    "\n",
    "for i in range(epoch):\n",
    "\n",
    "    MSE = 0\n",
    "    for j, k in enumerate(input_target):\n",
    "        y_target = wtb * input_target[j][0] + wbb * input_target[j][1] + wsx*input_target[j][2] + bias\n",
    "        MSE = MSE + (output_target[j] - y_target)^2\n",
    "    \n",
    "    print(MSE)\n"
   ]
  }
 ],
 "metadata": {
  "kernelspec": {
   "display_name": "Python 3",
   "language": "python",
   "name": "python3"
  },
  "language_info": {
   "codemirror_mode": {
    "name": "ipython",
    "version": 3
   },
   "file_extension": ".py",
   "mimetype": "text/x-python",
   "name": "python",
   "nbconvert_exporter": "python",
   "pygments_lexer": "ipython3",
   "version": "3.12.9"
  }
 },
 "nbformat": 4,
 "nbformat_minor": 5
}
