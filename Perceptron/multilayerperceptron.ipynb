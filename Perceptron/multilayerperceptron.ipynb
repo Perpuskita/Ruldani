{
 "cells": [
  {
   "cell_type": "markdown",
   "id": "b01bfa93",
   "metadata": {},
   "source": [
    "Multilayer Perceptron"
   ]
  },
  {
   "cell_type": "code",
   "execution_count": 2,
   "id": "3ef98092",
   "metadata": {},
   "outputs": [],
   "source": [
    "import numpy as np\n",
    "import math"
   ]
  },
  {
   "cell_type": "code",
   "execution_count": 24,
   "id": "70550d31",
   "metadata": {},
   "outputs": [],
   "source": [
    "input_layer = np.array([\n",
    "    [1,1],\n",
    "    [1,0],\n",
    "    [0,1],\n",
    "    [0,0]\n",
    "])\n",
    "\n",
    "output_layer = np.array([1,0,0,1])\n",
    "\n",
    "input = 2\n",
    "hidden = 4\n",
    "output = 1\n",
    "\n",
    "def sigmoid(x):\n",
    "    return 1/(1+np.exp(-x))\n",
    "\n",
    "sig = np.vectorize(sigmoid)"
   ]
  },
  {
   "cell_type": "code",
   "execution_count": null,
   "id": "18f10522",
   "metadata": {},
   "outputs": [
    {
     "name": "stdout",
     "output_type": "stream",
     "text": [
      "weight\n",
      " [[ 2.51390454 -1.75804692  2.11149688 -2.11570919]\n",
      " [-1.86484167 -2.480437   -0.04689192  2.97350895]]\n",
      "bias\n",
      " [ 0.27784904 -1.5149657   2.62448523  2.65335122]\n",
      "weight\n",
      " [[-0.05094426]\n",
      " [-2.36607355]\n",
      " [ 0.76840068]\n",
      " [ 1.3548115 ]]\n",
      "bias\n",
      " [-1.84543988]\n"
     ]
    }
   ],
   "source": [
    "weight_hidden = np.random.uniform(low=-3, high=3, size=(input,hidden))\n",
    "print(\"weight\\n\", weight_hidden)\n",
    "\n",
    "bias_hidden = np.random.uniform(low=-3, high=3, size=(hidden))\n",
    "print(\"bias\\n\", bias_hidden)\n",
    "\n",
    "weight_output = np.random.uniform(low=-3, high=3, size=(hidden,output))\n",
    "print(\"weight\\n\", weight_output)\n",
    "\n",
    "bias_output = np.random.uniform(low=-3, high=3, size=(output))\n",
    "print(\"bias\\n\", bias_output)\n",
    "\n",
    "\n",
    "loss = []\n",
    "accuracy = []\n",
    "\n"
   ]
  },
  {
   "cell_type": "markdown",
   "id": "01cdf332",
   "metadata": {},
   "source": [
    "Feedforward"
   ]
  },
  {
   "cell_type": "code",
   "execution_count": 32,
   "id": "95f4661c",
   "metadata": {},
   "outputs": [],
   "source": [
    "epochs = 1\n",
    "lr = 0.1"
   ]
  },
  {
   "cell_type": "code",
   "execution_count": null,
   "id": "bfa63d14",
   "metadata": {},
   "outputs": [
    {
     "name": "stdout",
     "output_type": "stream",
     "text": [
      "--------\n",
      "[0.71644836 0.00316179 0.99088873 0.97100339]\n",
      "[0.54673971]\n",
      "--------\n",
      "[0.94222857 0.03650871 0.99130248 0.63126372]\n",
      "[0.41026682]\n",
      "--------\n",
      "[0.16980743 0.01806759 0.92940553 0.99641305]\n",
      "[0.54171974]\n",
      "--------\n",
      "[0.56901881 0.18020404 0.93242088 0.93421724]\n",
      "[0.42100648]\n"
     ]
    }
   ],
   "source": [
    "for epoch in range(epochs):\n",
    "    MSE = 0\n",
    "    new_target = np.zeros(output_layer.shape)\n",
    "    \n",
    "    for idx, inp in enumerate(input_layer):\n",
    "        o_hidden = np.matmul(input_layer[idx], weight_hidden) + bias_hidden\n",
    "        o_hidden = sig(o_hidden)\n",
    "        print(\"--------\")\n",
    "        print(o_hidden)\n",
    "\n",
    "        o_output = np.matmul(o_hidden, weight_output) + bias_output\n",
    "        o_output = sig(o_output)\n",
    "        print(o_output)\n",
    "\n",
    "        error = output_layer[idx] - o_output\n",
    "        MSE = MSE + (error*error)\n",
    "        new_target[idx] = o_output.round()\n",
    "\n"
   ]
  }
 ],
 "metadata": {
  "kernelspec": {
   "display_name": "Python 3",
   "language": "python",
   "name": "python3"
  },
  "language_info": {
   "codemirror_mode": {
    "name": "ipython",
    "version": 3
   },
   "file_extension": ".py",
   "mimetype": "text/x-python",
   "name": "python",
   "nbconvert_exporter": "python",
   "pygments_lexer": "ipython3",
   "version": "3.12.9"
  }
 },
 "nbformat": 4,
 "nbformat_minor": 5
}
